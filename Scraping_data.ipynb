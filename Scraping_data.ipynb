{
  "nbformat": 4,
  "nbformat_minor": 0,
  "metadata": {
    "colab": {
      "provenance": []
    },
    "kernelspec": {
      "name": "python3",
      "display_name": "Python 3"
    },
    "language_info": {
      "name": "python"
    }
  },
  "cells": [
    {
      "cell_type": "code",
      "source": [
        "!pip install google-play-scraper\n",
        "from google_play_scraper import app, reviews\n",
        "from google_play_scraper import Sort\n",
        "import pandas as pd\n",
        "import datetime\n",
        "import csv"
      ],
      "metadata": {
        "id": "VxjdtgseSx9B",
        "colab": {
          "base_uri": "https://localhost:8080/"
        },
        "outputId": "c4c029ae-1b19-4c55-cfa1-acbf2d7be5eb"
      },
      "execution_count": 1,
      "outputs": [
        {
          "output_type": "stream",
          "name": "stdout",
          "text": [
            "Collecting google-play-scraper\n",
            "  Downloading google_play_scraper-1.2.7-py3-none-any.whl.metadata (50 kB)\n",
            "\u001b[?25l     \u001b[90m━━━━━━━━━━━━━━━━━━━━━━━━━━━━━━━━━━━━━━━━\u001b[0m \u001b[32m0.0/50.2 kB\u001b[0m \u001b[31m?\u001b[0m eta \u001b[36m-:--:--\u001b[0m\r\u001b[2K     \u001b[90m━━━━━━━━━━━━━━━━━━━━━━━━━━━━━━━━━━━━━━━━\u001b[0m \u001b[32m50.2/50.2 kB\u001b[0m \u001b[31m1.5 MB/s\u001b[0m eta \u001b[36m0:00:00\u001b[0m\n",
            "\u001b[?25hDownloading google_play_scraper-1.2.7-py3-none-any.whl (28 kB)\n",
            "Installing collected packages: google-play-scraper\n",
            "Successfully installed google-play-scraper-1.2.7\n"
          ]
        }
      ]
    },
    {
      "cell_type": "code",
      "source": [
        "app_id = 'com.twitter.android'\n",
        "\n",
        "def get_reviews(app_id, lang='id', count=5000, sort=Sort.NEWEST, filter_score_with=None, filter_device_with=None, continuation_token=None):\n",
        "  try:\n",
        "    result, continuation_token = reviews (\n",
        "        app_id,\n",
        "        lang=lang,\n",
        "        country='id',\n",
        "        sort=sort,\n",
        "        count=count,\n",
        "        filter_score_with=filter_score_with,\n",
        "        filter_device_with=filter_device_with,\n",
        "        continuation_token=continuation_token\n",
        "\n",
        "    )\n",
        "\n",
        "    return result, continuation_token\n",
        "  except Exception as e:\n",
        "    print(\"Error:\", e)\n",
        "    return None, None\n",
        "\n",
        "# Store the results of get_reviews in 'all_reviews' to avoid name conflict\n",
        "all_reviews, continuation_token = get_reviews(app_id)\n",
        "\n",
        "if all_reviews is not None:\n",
        "  print(\"Jumlah ulasan:\", len(all_reviews))\n",
        "  if len(all_reviews) > 0:\n",
        "    print(\"Contoh ulasan:\")\n",
        "    print(all_reviews[0])\n",
        "else:\n",
        "  print(\"Tidak ada ulasan yang ditemukan.\")"
      ],
      "metadata": {
        "colab": {
          "base_uri": "https://localhost:8080/"
        },
        "id": "oEheH1ilOC6Z",
        "outputId": "fc25cb8e-f927-40a6-80f4-3e3f0eee7d5d"
      },
      "execution_count": 2,
      "outputs": [
        {
          "output_type": "stream",
          "name": "stdout",
          "text": [
            "Jumlah ulasan: 5000\n",
            "Contoh ulasan:\n",
            "{'reviewId': '408ca744-c61e-4b9a-b709-d62345e9e61c', 'userName': 'Pengguna Google', 'userImage': 'https://play-lh.googleusercontent.com/EGemoI2NTXmTsBVtJqk8jxF9rh8ApRWfsIMQSt2uE4OcpQqbFu7f7NbTK05lx80nuSijCz7sc3a277R67g', 'content': 'Bagus', 'score': 5, 'thumbsUpCount': 0, 'reviewCreatedVersion': None, 'at': datetime.datetime(2025, 4, 9, 18, 16, 24), 'replyContent': None, 'repliedAt': None, 'appVersion': None}\n"
          ]
        }
      ]
    },
    {
      "cell_type": "code",
      "source": [
        "# Fungsi untuk mengekspor data ulasan ke dalam file CSV\n",
        "def export_to_csv(reviews, file_name='ulasan_app_twitter.csv'):\n",
        "    if reviews:\n",
        "        fieldnames = ['Review ID', 'Rating', 'Review Text', 'Date']\n",
        "\n",
        "        with open(file_name, mode='w', newline='', encoding='utf-8') as csv_files:\n",
        "            writer = csv.DictWriter(csv_files, fieldnames=fieldnames)\n",
        "            writer.writeheader()\n",
        "\n",
        "            for review in reviews:\n",
        "                # Menulis data review ke dalam file CSV\n",
        "                writer.writerow({\n",
        "                    'Review ID': review['reviewId'],\n",
        "                    'Rating': review['score'],\n",
        "                    'Review Text': review['content'],\n",
        "                    'Date': review['at']\n",
        "                })\n",
        "\n",
        "        print(f\"Data berhasil diekspor ke dalam file CSV: '{file_name}'\")\n",
        "    else:\n",
        "        print(\"Tidak ada data untuk diekspor.\")\n",
        "\n",
        "# Memanggil fungsi dengan data review\n",
        "export_to_csv(all_reviews)"
      ],
      "metadata": {
        "colab": {
          "base_uri": "https://localhost:8080/"
        },
        "id": "pCFiwjBmP2ew",
        "outputId": "b937b334-748e-4a79-b530-f8dc093474d0"
      },
      "execution_count": 3,
      "outputs": [
        {
          "output_type": "stream",
          "name": "stdout",
          "text": [
            "Data berhasil diekspor ke dalam file CSV: 'ulasan_app_twitter.csv'\n"
          ]
        }
      ]
    },
    {
      "cell_type": "code",
      "source": [],
      "metadata": {
        "id": "b7iULr9lg34k"
      },
      "execution_count": 3,
      "outputs": []
    }
  ]
}